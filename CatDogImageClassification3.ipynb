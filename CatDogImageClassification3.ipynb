{
  "nbformat": 4,
  "nbformat_minor": 0,
  "metadata": {
    "colab": {
      "name": "CatDogImageClassification3.ipynb",
      "version": "0.3.2",
      "provenance": [],
      "include_colab_link": true
    },
    "kernelspec": {
      "name": "python3",
      "display_name": "Python 3"
    }
  },
  "cells": [
    {
      "cell_type": "markdown",
      "metadata": {
        "id": "view-in-github",
        "colab_type": "text"
      },
      "source": [
        "<a href=\"https://colab.research.google.com/github/Priyanshushekhar777/Tensorflow_Project/blob/master/CatDogImageClassification3.ipynb\" target=\"_parent\"><img src=\"https://colab.research.google.com/assets/colab-badge.svg\" alt=\"Open In Colab\"/></a>"
      ]
    },
    {
      "metadata": {
        "id": "dXuVjkT7QUNJ",
        "colab_type": "text"
      },
      "cell_type": "markdown",
      "source": [
        "#Feature Extraction and Fine-Tunning"
      ]
    },
    {
      "metadata": {
        "id": "T3VCTbRBRCgH",
        "colab_type": "text"
      },
      "cell_type": "markdown",
      "source": [
        "#Feature Extraction Using a Pretrained Model"
      ]
    },
    {
      "metadata": {
        "id": "-o98FlNPP9Dw",
        "colab_type": "code",
        "colab": {}
      },
      "cell_type": "code",
      "source": [
        "import os\n",
        "\n",
        "from tensorflow.keras import layers\n",
        "from tensorflow.keras import Model"
      ],
      "execution_count": 0,
      "outputs": []
    },
    {
      "metadata": {
        "id": "3w7mDMspRRJ7",
        "colab_type": "code",
        "outputId": "bc29a896-9afd-478d-962d-374e14a10f43",
        "colab": {
          "base_uri": "https://localhost:8080/",
          "height": 204
        }
      },
      "cell_type": "code",
      "source": [
        "!wget --no-check-certificate \\\n",
        "    https://storage.googleapis.com/mledu-datasets/inception_v3_weights_tf_dim_ordering_tf_kernels_notop.h5 \\\n",
        "    -O /tmp/inception_v3_weights_tf_dim_ordering_tf_kernels_notop.h5"
      ],
      "execution_count": 5,
      "outputs": [
        {
          "output_type": "stream",
          "text": [
            "--2019-04-04 15:15:31--  https://storage.googleapis.com/mledu-datasets/inception_v3_weights_tf_dim_ordering_tf_kernels_notop.h5\n",
            "Resolving storage.googleapis.com (storage.googleapis.com)... 74.125.20.128, 2607:f8b0:400e:c09::80\n",
            "Connecting to storage.googleapis.com (storage.googleapis.com)|74.125.20.128|:443... connected.\n",
            "HTTP request sent, awaiting response... 200 OK\n",
            "Length: 87910968 (84M) [application/x-hdf]\n",
            "Saving to: ‘/tmp/inception_v3_weights_tf_dim_ordering_tf_kernels_notop.h5’\n",
            "\n",
            "/tmp/inception_v3_w 100%[===================>]  83.84M  41.5MB/s    in 2.0s    \n",
            "\n",
            "2019-04-04 15:15:33 (41.5 MB/s) - ‘/tmp/inception_v3_weights_tf_dim_ordering_tf_kernels_notop.h5’ saved [87910968/87910968]\n",
            "\n"
          ],
          "name": "stdout"
        }
      ]
    },
    {
      "metadata": {
        "id": "KXjfh2AdRx7p",
        "colab_type": "code",
        "outputId": "8c6b4b3e-5151-4e7c-e25d-8d6b5be90be0",
        "colab": {
          "base_uri": "https://localhost:8080/",
          "height": 88
        }
      },
      "cell_type": "code",
      "source": [
        "from tensorflow.keras.applications.inception_v3 import InceptionV3\n",
        "\n",
        "local_weights_file = '/tmp/inception_v3_weights_tf_dim_ordering_tf_kernels_notop.h5'\n",
        "pre_trained_model = InceptionV3(\n",
        "    input_shape=(150, 150, 3), include_top=False, weights=None)\n",
        "pre_trained_model.load_weights(local_weights_file)"
      ],
      "execution_count": 6,
      "outputs": [
        {
          "output_type": "stream",
          "text": [
            "WARNING:tensorflow:From /usr/local/lib/python3.6/dist-packages/tensorflow/python/ops/resource_variable_ops.py:435: colocate_with (from tensorflow.python.framework.ops) is deprecated and will be removed in a future version.\n",
            "Instructions for updating:\n",
            "Colocations handled automatically by placer.\n"
          ],
          "name": "stdout"
        }
      ]
    },
    {
      "metadata": {
        "id": "Q3jk22B5R2WQ",
        "colab_type": "code",
        "colab": {}
      },
      "cell_type": "code",
      "source": [
        "for layer in pre_trained_model.layers:\n",
        "  layer.trainable = False"
      ],
      "execution_count": 0,
      "outputs": []
    },
    {
      "metadata": {
        "id": "-MR2B5sQST1a",
        "colab_type": "code",
        "outputId": "53458c8d-61ca-4133-e00c-2ff247b10b7b",
        "colab": {
          "base_uri": "https://localhost:8080/",
          "height": 34
        }
      },
      "cell_type": "code",
      "source": [
        "last_layer = pre_trained_model.get_layer('mixed7')\n",
        "print ('last layer output shape:', last_layer.output_shape)\n",
        "last_output = last_layer.output"
      ],
      "execution_count": 8,
      "outputs": [
        {
          "output_type": "stream",
          "text": [
            "last layer output shape: (None, 7, 7, 768)\n"
          ],
          "name": "stdout"
        }
      ]
    },
    {
      "metadata": {
        "id": "quXE9J_JSYe2",
        "colab_type": "code",
        "colab": {
          "base_uri": "https://localhost:8080/",
          "height": 88
        },
        "outputId": "7a130f6d-6d32-42f1-9e07-b168ca98152d"
      },
      "cell_type": "code",
      "source": [
        "from tensorflow.keras.optimizers import RMSprop\n",
        "\n",
        "# Flatten the output layer to 1 dimension\n",
        "x = layers.Flatten()(last_output)\n",
        "# Add a fully connected layer with 1,024 hidden units and ReLU activation\n",
        "x = layers.Dense(1024, activation='relu')(x)\n",
        "# Add a dropout rate of 0.2\n",
        "x = layers.Dropout(0.2)(x)\n",
        "# Add a final sigmoid layer for classification\n",
        "x = layers.Dense(1, activation='sigmoid')(x)\n",
        "\n",
        "# Configure and compile the model\n",
        "model = Model(pre_trained_model.input, x)\n",
        "model.compile(loss='binary_crossentropy',\n",
        "              optimizer=RMSprop(lr=0.0001),\n",
        "              metrics=['acc'])"
      ],
      "execution_count": 9,
      "outputs": [
        {
          "output_type": "stream",
          "text": [
            "WARNING:tensorflow:From /usr/local/lib/python3.6/dist-packages/tensorflow/python/keras/layers/core.py:143: calling dropout (from tensorflow.python.ops.nn_ops) with keep_prob is deprecated and will be removed in a future version.\n",
            "Instructions for updating:\n",
            "Please use `rate` instead of `keep_prob`. Rate should be set to `rate = 1 - keep_prob`.\n"
          ],
          "name": "stdout"
        }
      ]
    },
    {
      "metadata": {
        "id": "hS1pVgMsSt7J",
        "colab_type": "code",
        "outputId": "d0317304-2bd4-498f-e545-91a2cbe1a77e",
        "colab": {
          "base_uri": "https://localhost:8080/",
          "height": 204
        }
      },
      "cell_type": "code",
      "source": [
        "!wget --no-check-certificate \\\n",
        "   https://storage.googleapis.com/mledu-datasets/cats_and_dogs_filtered.zip -O \\\n",
        "   /tmp/cats_and_dogs_filtered.zip"
      ],
      "execution_count": 10,
      "outputs": [
        {
          "output_type": "stream",
          "text": [
            "--2019-04-04 15:19:08--  https://storage.googleapis.com/mledu-datasets/cats_and_dogs_filtered.zip\n",
            "Resolving storage.googleapis.com (storage.googleapis.com)... 74.125.20.128, 2607:f8b0:400e:c08::80\n",
            "Connecting to storage.googleapis.com (storage.googleapis.com)|74.125.20.128|:443... connected.\n",
            "HTTP request sent, awaiting response... 200 OK\n",
            "Length: 68606236 (65M) [application/zip]\n",
            "Saving to: ‘/tmp/cats_and_dogs_filtered.zip’\n",
            "\n",
            "\r          /tmp/cats   0%[                    ]       0  --.-KB/s               \r         /tmp/cats_   6%[>                   ]   4.01M  13.1MB/s               \r        /tmp/cats_a  48%[========>           ]  32.01M  35.4MB/s               \r/tmp/cats_and_dogs_ 100%[===================>]  65.43M  63.8MB/s    in 1.0s    \n",
            "\n",
            "2019-04-04 15:19:09 (63.8 MB/s) - ‘/tmp/cats_and_dogs_filtered.zip’ saved [68606236/68606236]\n",
            "\n"
          ],
          "name": "stdout"
        }
      ]
    },
    {
      "metadata": {
        "id": "LMNuyr9PTCRd",
        "colab_type": "code",
        "outputId": "a8efb28f-e6f6-4872-94f5-f747b3a60e40",
        "colab": {
          "base_uri": "https://localhost:8080/",
          "height": 51
        }
      },
      "cell_type": "code",
      "source": [
        "import os\n",
        "import zipfile\n",
        "\n",
        "from tensorflow.keras.preprocessing.image import ImageDataGenerator\n",
        "\n",
        "local_zip = '/tmp/cats_and_dogs_filtered.zip'\n",
        "zip_ref = zipfile.ZipFile(local_zip, 'r')\n",
        "zip_ref.extractall('/tmp')\n",
        "zip_ref.close()\n",
        "\n",
        "# Define our example directories and files\n",
        "base_dir = '/tmp/cats_and_dogs_filtered'\n",
        "train_dir = os.path.join(base_dir, 'train')\n",
        "validation_dir = os.path.join(base_dir, 'validation')\n",
        "\n",
        "# Directory with our training cat pictures\n",
        "train_cats_dir = os.path.join(train_dir, 'cats')\n",
        "\n",
        "# Directory with our training dog pictures\n",
        "train_dogs_dir = os.path.join(train_dir, 'dogs')\n",
        "\n",
        "# Directory with our validation cat pictures\n",
        "validation_cats_dir = os.path.join(validation_dir, 'cats')\n",
        "\n",
        "# Directory with our validation dog pictures\n",
        "validation_dogs_dir = os.path.join(validation_dir, 'dogs')\n",
        "\n",
        "train_cat_fnames = os.listdir(train_cats_dir)\n",
        "train_dog_fnames = os.listdir(train_dogs_dir)\n",
        "\n",
        "# Add our data-augmentation parameters to ImageDataGenerator\n",
        "train_datagen = ImageDataGenerator(\n",
        "    rescale=1./255,\n",
        "    rotation_range=40,\n",
        "    width_shift_range=0.2,\n",
        "    height_shift_range=0.2,\n",
        "    shear_range=0.2,\n",
        "    zoom_range=0.2,\n",
        "    horizontal_flip=True)\n",
        "\n",
        "# Note that the validation data should not be augmented!\n",
        "test_datagen = ImageDataGenerator(rescale=1./255)\n",
        "\n",
        "train_generator = train_datagen.flow_from_directory(\n",
        "        train_dir, # This is the source directory for training images\n",
        "        target_size=(150, 150),  # All images will be resized to 150x150\n",
        "        batch_size=20,\n",
        "        # Since we use binary_crossentropy loss, we need binary labels\n",
        "        class_mode='binary')\n",
        "\n",
        "# Flow validation images in batches of 20 using test_datagen generator\n",
        "validation_generator = test_datagen.flow_from_directory(\n",
        "        validation_dir,\n",
        "        target_size=(150, 150),\n",
        "        batch_size=20,\n",
        "        class_mode='binary')"
      ],
      "execution_count": 11,
      "outputs": [
        {
          "output_type": "stream",
          "text": [
            "Found 2000 images belonging to 2 classes.\n",
            "Found 1000 images belonging to 2 classes.\n"
          ],
          "name": "stdout"
        }
      ]
    },
    {
      "metadata": {
        "id": "N1Y2teq8UKvu",
        "colab_type": "code",
        "outputId": "3a4df09e-dbad-446a-97a2-86f394c29fd0",
        "colab": {
          "base_uri": "https://localhost:8080/",
          "height": 190
        }
      },
      "cell_type": "code",
      "source": [
        "history = model.fit_generator(\n",
        "      train_generator,\n",
        "      steps_per_epoch=100,\n",
        "      epochs=2,\n",
        "      validation_data=validation_generator,\n",
        "      validation_steps=50,\n",
        "      verbose=2)"
      ],
      "execution_count": 12,
      "outputs": [
        {
          "output_type": "stream",
          "text": [
            "WARNING:tensorflow:From /usr/local/lib/python3.6/dist-packages/tensorflow/python/ops/math_ops.py:3066: to_int32 (from tensorflow.python.ops.math_ops) is deprecated and will be removed in a future version.\n",
            "Instructions for updating:\n",
            "Use tf.cast instead.\n",
            "Epoch 1/2\n",
            "50/50 [==============================] - 53s 1s/step - loss: 0.4108 - acc: 0.8860\n",
            " - 212s - loss: 0.4939 - acc: 0.7660 - val_loss: 0.4108 - val_acc: 0.8860\n",
            "Epoch 2/2\n",
            "50/50 [==============================] - 52s 1s/step - loss: 0.5629 - acc: 0.8840\n",
            " - 206s - loss: 0.3812 - acc: 0.8290 - val_loss: 0.5629 - val_acc: 0.8840\n"
          ],
          "name": "stdout"
        }
      ]
    },
    {
      "metadata": {
        "id": "fqZm0kABenUl",
        "colab_type": "text"
      },
      "cell_type": "markdown",
      "source": [
        "#Further Improving Accuracy with Fine-Tunning"
      ]
    },
    {
      "metadata": {
        "id": "1P28W_TXUWsj",
        "colab_type": "code",
        "colab": {}
      },
      "cell_type": "code",
      "source": [
        "from tensorflow.keras.optimizers import SGD\n",
        "\n",
        "unfreeze = False\n",
        "\n",
        "# Unfreeze all models after \"mixed6\"\n",
        "for layer in pre_trained_model.layers:\n",
        "  if unfreeze:\n",
        "    layer.trainable = True\n",
        "  if layer.name == 'mixed6':\n",
        "    unfreeze = True\n",
        "\n",
        "# As an optimizer, here we will use SGD \n",
        "# with a very low learning rate (0.00001)\n",
        "model.compile(loss='binary_crossentropy',\n",
        "              optimizer=SGD(\n",
        "                  lr=0.00001, \n",
        "                  momentum=0.9),\n",
        "              metrics=['acc'])"
      ],
      "execution_count": 0,
      "outputs": []
    },
    {
      "metadata": {
        "id": "IK1dj-qGe5ft",
        "colab_type": "code",
        "outputId": "52f2e4db-cf89-4e26-bbf3-2491646a94dd",
        "colab": {
          "base_uri": "https://localhost:8080/",
          "height": 2567
        }
      },
      "cell_type": "code",
      "source": [
        "history = model.fit_generator(\n",
        "      train_generator,\n",
        "      steps_per_epoch=100,\n",
        "      epochs=50,\n",
        "      validation_data=validation_generator,\n",
        "      validation_steps=50,\n",
        "      verbose=2)"
      ],
      "execution_count": 14,
      "outputs": [
        {
          "output_type": "stream",
          "text": [
            "Epoch 1/50\n",
            "50/50 [==============================] - 54s 1s/step - loss: 0.4590 - acc: 0.9040\n",
            " - 234s - loss: 0.4423 - acc: 0.8170 - val_loss: 0.4590 - val_acc: 0.9040\n",
            "Epoch 2/50\n",
            "50/50 [==============================] - 53s 1s/step - loss: 0.4067 - acc: 0.9180\n",
            " - 231s - loss: 0.3296 - acc: 0.8625 - val_loss: 0.4067 - val_acc: 0.9180\n",
            "Epoch 3/50\n",
            "50/50 [==============================] - 55s 1s/step - loss: 0.3847 - acc: 0.9260\n",
            " - 234s - loss: 0.3029 - acc: 0.8690 - val_loss: 0.3847 - val_acc: 0.9260\n",
            "Epoch 4/50\n",
            "50/50 [==============================] - 52s 1s/step - loss: 0.3683 - acc: 0.9260\n",
            " - 228s - loss: 0.3069 - acc: 0.8610 - val_loss: 0.3683 - val_acc: 0.9260\n",
            "Epoch 5/50\n",
            "50/50 [==============================] - 54s 1s/step - loss: 0.3603 - acc: 0.9270\n",
            " - 230s - loss: 0.2956 - acc: 0.8765 - val_loss: 0.3603 - val_acc: 0.9270\n",
            "Epoch 6/50\n",
            "50/50 [==============================] - 53s 1s/step - loss: 0.3550 - acc: 0.9270\n",
            " - 229s - loss: 0.2783 - acc: 0.8770 - val_loss: 0.3550 - val_acc: 0.9270\n",
            "Epoch 7/50\n",
            "50/50 [==============================] - 53s 1s/step - loss: 0.3554 - acc: 0.9270\n",
            " - 230s - loss: 0.2869 - acc: 0.8700 - val_loss: 0.3554 - val_acc: 0.9270\n",
            "Epoch 8/50\n",
            "50/50 [==============================] - 54s 1s/step - loss: 0.3575 - acc: 0.9270\n",
            " - 233s - loss: 0.2767 - acc: 0.8845 - val_loss: 0.3575 - val_acc: 0.9270\n",
            "Epoch 9/50\n",
            "50/50 [==============================] - 53s 1s/step - loss: 0.3526 - acc: 0.9270\n",
            " - 233s - loss: 0.2895 - acc: 0.8775 - val_loss: 0.3526 - val_acc: 0.9270\n",
            "Epoch 10/50\n",
            "50/50 [==============================] - 53s 1s/step - loss: 0.3520 - acc: 0.9270\n",
            " - 230s - loss: 0.2893 - acc: 0.8695 - val_loss: 0.3520 - val_acc: 0.9270\n",
            "Epoch 11/50\n",
            "50/50 [==============================] - 52s 1s/step - loss: 0.3556 - acc: 0.9270\n",
            " - 227s - loss: 0.2782 - acc: 0.8800 - val_loss: 0.3556 - val_acc: 0.9270\n",
            "Epoch 12/50\n",
            "50/50 [==============================] - 52s 1s/step - loss: 0.3499 - acc: 0.9270\n",
            " - 228s - loss: 0.2864 - acc: 0.8705 - val_loss: 0.3499 - val_acc: 0.9270\n",
            "Epoch 13/50\n",
            "50/50 [==============================] - 53s 1s/step - loss: 0.3535 - acc: 0.9270\n",
            " - 229s - loss: 0.2930 - acc: 0.8760 - val_loss: 0.3535 - val_acc: 0.9270\n",
            "Epoch 14/50\n",
            "50/50 [==============================] - 53s 1s/step - loss: 0.3510 - acc: 0.9280\n",
            " - 228s - loss: 0.2742 - acc: 0.8775 - val_loss: 0.3510 - val_acc: 0.9280\n",
            "Epoch 15/50\n",
            "50/50 [==============================] - 53s 1s/step - loss: 0.3563 - acc: 0.9270\n",
            " - 230s - loss: 0.2735 - acc: 0.8870 - val_loss: 0.3563 - val_acc: 0.9270\n",
            "Epoch 16/50\n",
            "50/50 [==============================] - 55s 1s/step - loss: 0.3508 - acc: 0.9290\n",
            " - 231s - loss: 0.2799 - acc: 0.8830 - val_loss: 0.3508 - val_acc: 0.9290\n",
            "Epoch 17/50\n",
            "50/50 [==============================] - 52s 1s/step - loss: 0.3472 - acc: 0.9290\n",
            " - 229s - loss: 0.2758 - acc: 0.8805 - val_loss: 0.3472 - val_acc: 0.9290\n",
            "Epoch 18/50\n",
            "50/50 [==============================] - 53s 1s/step - loss: 0.3444 - acc: 0.9310\n",
            " - 230s - loss: 0.2952 - acc: 0.8710 - val_loss: 0.3444 - val_acc: 0.9310\n",
            "Epoch 19/50\n",
            "50/50 [==============================] - 53s 1s/step - loss: 0.3449 - acc: 0.9300\n",
            " - 229s - loss: 0.2813 - acc: 0.8760 - val_loss: 0.3449 - val_acc: 0.9300\n",
            "Epoch 20/50\n",
            "50/50 [==============================] - 52s 1s/step - loss: 0.3394 - acc: 0.9320\n",
            " - 227s - loss: 0.2900 - acc: 0.8710 - val_loss: 0.3394 - val_acc: 0.9320\n",
            "Epoch 21/50\n",
            "50/50 [==============================] - 52s 1s/step - loss: 0.3412 - acc: 0.9310\n",
            " - 228s - loss: 0.2770 - acc: 0.8715 - val_loss: 0.3412 - val_acc: 0.9310\n",
            "Epoch 22/50\n",
            "50/50 [==============================] - 53s 1s/step - loss: 0.3419 - acc: 0.9310\n",
            " - 228s - loss: 0.2787 - acc: 0.8760 - val_loss: 0.3419 - val_acc: 0.9310\n",
            "Epoch 23/50\n",
            "50/50 [==============================] - 53s 1s/step - loss: 0.3483 - acc: 0.9310\n",
            " - 230s - loss: 0.2742 - acc: 0.8805 - val_loss: 0.3483 - val_acc: 0.9310\n",
            "Epoch 24/50\n",
            "50/50 [==============================] - 53s 1s/step - loss: 0.3373 - acc: 0.9320\n",
            " - 230s - loss: 0.2833 - acc: 0.8770 - val_loss: 0.3373 - val_acc: 0.9320\n",
            "Epoch 25/50\n",
            "50/50 [==============================] - 53s 1s/step - loss: 0.3409 - acc: 0.9310\n",
            " - 230s - loss: 0.2682 - acc: 0.8850 - val_loss: 0.3409 - val_acc: 0.9310\n",
            "Epoch 26/50\n",
            "50/50 [==============================] - 53s 1s/step - loss: 0.3361 - acc: 0.9310\n",
            " - 231s - loss: 0.2752 - acc: 0.8845 - val_loss: 0.3361 - val_acc: 0.9310\n",
            "Epoch 27/50\n",
            "50/50 [==============================] - 53s 1s/step - loss: 0.3335 - acc: 0.9310\n",
            " - 232s - loss: 0.2915 - acc: 0.8770 - val_loss: 0.3335 - val_acc: 0.9310\n",
            "Epoch 28/50\n",
            "50/50 [==============================] - 52s 1s/step - loss: 0.3347 - acc: 0.9320\n",
            " - 227s - loss: 0.2710 - acc: 0.8810 - val_loss: 0.3347 - val_acc: 0.9320\n",
            "Epoch 29/50\n",
            "50/50 [==============================] - 52s 1s/step - loss: 0.3343 - acc: 0.9320\n",
            " - 227s - loss: 0.2727 - acc: 0.8830 - val_loss: 0.3343 - val_acc: 0.9320\n",
            "Epoch 30/50\n",
            "50/50 [==============================] - 53s 1s/step - loss: 0.3261 - acc: 0.9340\n",
            " - 228s - loss: 0.2635 - acc: 0.8840 - val_loss: 0.3261 - val_acc: 0.9340\n",
            "Epoch 31/50\n",
            "50/50 [==============================] - 52s 1s/step - loss: 0.3288 - acc: 0.9340\n",
            " - 228s - loss: 0.2789 - acc: 0.8830 - val_loss: 0.3288 - val_acc: 0.9340\n",
            "Epoch 32/50\n",
            "50/50 [==============================] - 52s 1s/step - loss: 0.3264 - acc: 0.9350\n",
            " - 228s - loss: 0.2541 - acc: 0.8910 - val_loss: 0.3264 - val_acc: 0.9350\n",
            "Epoch 33/50\n",
            "50/50 [==============================] - 53s 1s/step - loss: 0.3285 - acc: 0.9340\n",
            " - 228s - loss: 0.2753 - acc: 0.8770 - val_loss: 0.3285 - val_acc: 0.9340\n",
            "Epoch 34/50\n",
            "50/50 [==============================] - 53s 1s/step - loss: 0.3245 - acc: 0.9350\n",
            " - 229s - loss: 0.2683 - acc: 0.8865 - val_loss: 0.3245 - val_acc: 0.9350\n",
            "Epoch 35/50\n",
            "50/50 [==============================] - 52s 1s/step - loss: 0.3207 - acc: 0.9370\n",
            " - 227s - loss: 0.2594 - acc: 0.8935 - val_loss: 0.3207 - val_acc: 0.9370\n",
            "Epoch 36/50\n",
            "50/50 [==============================] - 53s 1s/step - loss: 0.3194 - acc: 0.9370\n",
            " - 227s - loss: 0.2778 - acc: 0.8775 - val_loss: 0.3194 - val_acc: 0.9370\n",
            "Epoch 37/50\n",
            "50/50 [==============================] - 52s 1s/step - loss: 0.3203 - acc: 0.9370\n",
            " - 227s - loss: 0.2762 - acc: 0.8770 - val_loss: 0.3203 - val_acc: 0.9370\n",
            "Epoch 38/50\n",
            "50/50 [==============================] - 53s 1s/step - loss: 0.3207 - acc: 0.9360\n",
            " - 227s - loss: 0.2926 - acc: 0.8750 - val_loss: 0.3207 - val_acc: 0.9360\n",
            "Epoch 39/50\n",
            "50/50 [==============================] - 52s 1s/step - loss: 0.3204 - acc: 0.9360\n",
            " - 228s - loss: 0.2489 - acc: 0.8925 - val_loss: 0.3204 - val_acc: 0.9360\n",
            "Epoch 40/50\n",
            "50/50 [==============================] - 53s 1s/step - loss: 0.3228 - acc: 0.9360\n",
            " - 229s - loss: 0.2715 - acc: 0.8785 - val_loss: 0.3228 - val_acc: 0.9360\n",
            "Epoch 41/50\n",
            "50/50 [==============================] - 53s 1s/step - loss: 0.3215 - acc: 0.9360\n",
            " - 231s - loss: 0.2696 - acc: 0.8865 - val_loss: 0.3215 - val_acc: 0.9360\n",
            "Epoch 42/50\n",
            "50/50 [==============================] - 53s 1s/step - loss: 0.3185 - acc: 0.9360\n",
            " - 231s - loss: 0.2619 - acc: 0.8930 - val_loss: 0.3185 - val_acc: 0.9360\n",
            "Epoch 43/50\n",
            "50/50 [==============================] - 52s 1s/step - loss: 0.3125 - acc: 0.9380\n",
            " - 229s - loss: 0.2948 - acc: 0.8690 - val_loss: 0.3125 - val_acc: 0.9380\n",
            "Epoch 44/50\n",
            "50/50 [==============================] - 53s 1s/step - loss: 0.3128 - acc: 0.9380\n",
            " - 230s - loss: 0.2899 - acc: 0.8755 - val_loss: 0.3128 - val_acc: 0.9380\n",
            "Epoch 45/50\n",
            "50/50 [==============================] - 52s 1s/step - loss: 0.3109 - acc: 0.9370\n",
            " - 231s - loss: 0.2722 - acc: 0.8785 - val_loss: 0.3109 - val_acc: 0.9370\n",
            "Epoch 46/50\n",
            "50/50 [==============================] - 53s 1s/step - loss: 0.3160 - acc: 0.9370\n",
            " - 234s - loss: 0.2827 - acc: 0.8785 - val_loss: 0.3160 - val_acc: 0.9370\n",
            "Epoch 47/50\n",
            "50/50 [==============================] - 53s 1s/step - loss: 0.3071 - acc: 0.9380\n",
            " - 232s - loss: 0.2768 - acc: 0.8880 - val_loss: 0.3071 - val_acc: 0.9380\n",
            "Epoch 48/50\n",
            "50/50 [==============================] - 53s 1s/step - loss: 0.3098 - acc: 0.9380\n",
            " - 230s - loss: 0.2571 - acc: 0.8850 - val_loss: 0.3098 - val_acc: 0.9380\n",
            "Epoch 49/50\n",
            "50/50 [==============================] - 53s 1s/step - loss: 0.3106 - acc: 0.9380\n",
            " - 231s - loss: 0.2517 - acc: 0.8905 - val_loss: 0.3106 - val_acc: 0.9380\n",
            "Epoch 50/50\n",
            "50/50 [==============================] - 53s 1s/step - loss: 0.3099 - acc: 0.9380\n",
            " - 231s - loss: 0.2680 - acc: 0.8815 - val_loss: 0.3099 - val_acc: 0.9380\n"
          ],
          "name": "stdout"
        }
      ]
    },
    {
      "metadata": {
        "id": "CoHohormfBG0",
        "colab_type": "code",
        "colab": {}
      },
      "cell_type": "code",
      "source": [
        "import os, signal\n",
        "os.kill(os.getpid(), signal.SIGKILL)"
      ],
      "execution_count": 0,
      "outputs": []
    },
    {
      "metadata": {
        "id": "-wtjztyrI64W",
        "colab_type": "code",
        "colab": {}
      },
      "cell_type": "code",
      "source": [
        ""
      ],
      "execution_count": 0,
      "outputs": []
    }
  ]
}