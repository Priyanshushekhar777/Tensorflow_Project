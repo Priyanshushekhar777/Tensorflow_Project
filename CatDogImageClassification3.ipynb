{
  "nbformat": 4,
  "nbformat_minor": 0,
  "metadata": {
    "colab": {
      "name": "CatDogImageClassification3.ipynb",
      "version": "0.3.2",
      "provenance": [],
      "include_colab_link": true
    },
    "kernelspec": {
      "name": "python3",
      "display_name": "Python 3"
    }
  },
  "cells": [
    {
      "cell_type": "markdown",
      "metadata": {
        "id": "view-in-github",
        "colab_type": "text"
      },
      "source": [
        "<a href=\"https://colab.research.google.com/github/Priyanshushekhar777/Tensorflow_Project/blob/master/CatDogImageClassification3.ipynb\" target=\"_parent\"><img src=\"https://colab.research.google.com/assets/colab-badge.svg\" alt=\"Open In Colab\"/></a>"
      ]
    },
    {
      "metadata": {
        "id": "dXuVjkT7QUNJ",
        "colab_type": "text"
      },
      "cell_type": "markdown",
      "source": [
        "#Feature Extraction and Fine-Tunning"
      ]
    },
    {
      "metadata": {
        "id": "T3VCTbRBRCgH",
        "colab_type": "text"
      },
      "cell_type": "markdown",
      "source": [
        "#Feature Extraction Using a Pretrained Model"
      ]
    },
    {
      "metadata": {
        "id": "-o98FlNPP9Dw",
        "colab_type": "code",
        "colab": {}
      },
      "cell_type": "code",
      "source": [
        "import os\n",
        "\n",
        "from tensorflow.keras import layers\n",
        "from tensorflow.keras import Model"
      ],
      "execution_count": 0,
      "outputs": []
    },
    {
      "metadata": {
        "id": "3w7mDMspRRJ7",
        "colab_type": "code",
        "colab": {
          "base_uri": "https://localhost:8080/",
          "height": 204
        },
        "outputId": "6815cd4c-ed03-48d5-fea3-cab19a163707"
      },
      "cell_type": "code",
      "source": [
        "!wget --no-check-certificate \\\n",
        "    https://storage.googleapis.com/mledu-datasets/inception_v3_weights_tf_dim_ordering_tf_kernels_notop.h5 \\\n",
        "    -O /tmp/inception_v3_weights_tf_dim_ordering_tf_kernels_notop.h5"
      ],
      "execution_count": 8,
      "outputs": [
        {
          "output_type": "stream",
          "text": [
            "--2019-04-03 14:17:01--  https://storage.googleapis.com/mledu-datasets/inception_v3_weights_tf_dim_ordering_tf_kernels_notop.h5\n",
            "Resolving storage.googleapis.com (storage.googleapis.com)... 74.125.141.128, 2607:f8b0:400c:c06::80\n",
            "Connecting to storage.googleapis.com (storage.googleapis.com)|74.125.141.128|:443... connected.\n",
            "HTTP request sent, awaiting response... 200 OK\n",
            "Length: 87910968 (84M) [application/x-hdf]\n",
            "Saving to: ‘/tmp/inception_v3_weights_tf_dim_ordering_tf_kernels_notop.h5’\n",
            "\n",
            "\r          /tmp/ince   0%[                    ]       0  --.-KB/s               \r         /tmp/incep  37%[======>             ]  31.45M   157MB/s               \r        /tmp/incept  85%[================>   ]  72.01M   155MB/s               \r/tmp/inception_v3_w 100%[===================>]  83.84M   164MB/s    in 0.5s    \n",
            "\n",
            "2019-04-03 14:17:01 (164 MB/s) - ‘/tmp/inception_v3_weights_tf_dim_ordering_tf_kernels_notop.h5’ saved [87910968/87910968]\n",
            "\n"
          ],
          "name": "stdout"
        }
      ]
    },
    {
      "metadata": {
        "id": "KXjfh2AdRx7p",
        "colab_type": "code",
        "colab": {
          "base_uri": "https://localhost:8080/",
          "height": 88
        },
        "outputId": "df5de360-3402-4d98-95be-a1d30e3db877"
      },
      "cell_type": "code",
      "source": [
        "from tensorflow.keras.applications.inception_v3 import InceptionV3\n",
        "\n",
        "local_weights_file = '/tmp/inception_v3_weights_tf_dim_ordering_tf_kernels_notop.h5'\n",
        "pre_trained_model = InceptionV3(\n",
        "    input_shape=(150, 150, 3), include_top=False, weights=None)\n",
        "pre_trained_model.load_weights(local_weights_file)"
      ],
      "execution_count": 9,
      "outputs": [
        {
          "output_type": "stream",
          "text": [
            "WARNING:tensorflow:From /usr/local/lib/python3.6/dist-packages/tensorflow/python/ops/resource_variable_ops.py:435: colocate_with (from tensorflow.python.framework.ops) is deprecated and will be removed in a future version.\n",
            "Instructions for updating:\n",
            "Colocations handled automatically by placer.\n"
          ],
          "name": "stdout"
        }
      ]
    },
    {
      "metadata": {
        "id": "Q3jk22B5R2WQ",
        "colab_type": "code",
        "colab": {}
      },
      "cell_type": "code",
      "source": [
        "for layer in pre_trained_model.layers:\n",
        "  layer.trainable = False"
      ],
      "execution_count": 0,
      "outputs": []
    },
    {
      "metadata": {
        "id": "-MR2B5sQST1a",
        "colab_type": "code",
        "colab": {
          "base_uri": "https://localhost:8080/",
          "height": 34
        },
        "outputId": "f447166e-7092-4dd5-9be3-851f9a8cfb68"
      },
      "cell_type": "code",
      "source": [
        "last_layer = pre_trained_model.get_layer('mixed7')\n",
        "print ('last layer output shape:', last_layer.output_shape)\n",
        "last_output = last_layer.output"
      ],
      "execution_count": 11,
      "outputs": [
        {
          "output_type": "stream",
          "text": [
            "last layer output shape: (None, 7, 7, 768)\n"
          ],
          "name": "stdout"
        }
      ]
    },
    {
      "metadata": {
        "id": "quXE9J_JSYe2",
        "colab_type": "code",
        "colab": {
          "base_uri": "https://localhost:8080/",
          "height": 88
        },
        "outputId": "6203ed32-bcf4-4c8b-bf12-68d733dcaed6"
      },
      "cell_type": "code",
      "source": [
        "from tensorflow.keras.optimizers import RMSprop\n",
        "\n",
        "# Flatten the output layer to 1 dimension\n",
        "x = layers.Flatten()(last_output)\n",
        "# Add a fully connected layer with 1,024 hidden units and ReLU activation\n",
        "x = layers.Dense(1024, activation='relu')(x)\n",
        "# Add a dropout rate of 0.2\n",
        "x = layers.Dropout(0.2)(x)\n",
        "# Add a final sigmoid layer for classification\n",
        "x = layers.Dense(1, activation='sigmoid')(x)\n",
        "\n",
        "# Configure and compile the model\n",
        "model = Model(pre_trained_model.input, x)\n",
        "model.compile(loss='binary_crossentropy',\n",
        "              optimizer=RMSprop(lr=0.0001),\n",
        "              metrics=['acc'])"
      ],
      "execution_count": 12,
      "outputs": [
        {
          "output_type": "stream",
          "text": [
            "WARNING:tensorflow:From /usr/local/lib/python3.6/dist-packages/tensorflow/python/keras/layers/core.py:143: calling dropout (from tensorflow.python.ops.nn_ops) with keep_prob is deprecated and will be removed in a future version.\n",
            "Instructions for updating:\n",
            "Please use `rate` instead of `keep_prob`. Rate should be set to `rate = 1 - keep_prob`.\n"
          ],
          "name": "stdout"
        }
      ]
    },
    {
      "metadata": {
        "id": "hS1pVgMsSt7J",
        "colab_type": "code",
        "colab": {
          "base_uri": "https://localhost:8080/",
          "height": 204
        },
        "outputId": "1098e093-226a-42de-beca-2d3df598f70f"
      },
      "cell_type": "code",
      "source": [
        "!wget --no-check-certificate \\\n",
        "   https://storage.googleapis.com/mledu-datasets/cats_and_dogs_filtered.zip -O \\\n",
        "   /tmp/cats_and_dogs_filtered.zip"
      ],
      "execution_count": 13,
      "outputs": [
        {
          "output_type": "stream",
          "text": [
            "--2019-04-03 15:17:56--  https://storage.googleapis.com/mledu-datasets/cats_and_dogs_filtered.zip\n",
            "Resolving storage.googleapis.com (storage.googleapis.com)... 74.125.141.128, 2607:f8b0:400c:c06::80\n",
            "Connecting to storage.googleapis.com (storage.googleapis.com)|74.125.141.128|:443... connected.\n",
            "HTTP request sent, awaiting response... 200 OK\n",
            "Length: 68606236 (65M) [application/zip]\n",
            "Saving to: ‘/tmp/cats_and_dogs_filtered.zip’\n",
            "\n",
            "\r          /tmp/cats   0%[                    ]       0  --.-KB/s               \r         /tmp/cats_  24%[===>                ]  16.01M  73.6MB/s               \r        /tmp/cats_a  96%[==================> ]  63.20M   151MB/s               \r/tmp/cats_and_dogs_ 100%[===================>]  65.43M   153MB/s    in 0.4s    \n",
            "\n",
            "2019-04-03 15:17:56 (153 MB/s) - ‘/tmp/cats_and_dogs_filtered.zip’ saved [68606236/68606236]\n",
            "\n"
          ],
          "name": "stdout"
        }
      ]
    },
    {
      "metadata": {
        "id": "LMNuyr9PTCRd",
        "colab_type": "code",
        "colab": {
          "base_uri": "https://localhost:8080/",
          "height": 51
        },
        "outputId": "0e89ee06-c538-4b57-f95d-26a44388011e"
      },
      "cell_type": "code",
      "source": [
        "import os\n",
        "import zipfile\n",
        "\n",
        "from tensorflow.keras.preprocessing.image import ImageDataGenerator\n",
        "\n",
        "local_zip = '/tmp/cats_and_dogs_filtered.zip'\n",
        "zip_ref = zipfile.ZipFile(local_zip, 'r')\n",
        "zip_ref.extractall('/tmp')\n",
        "zip_ref.close()\n",
        "\n",
        "# Define our example directories and files\n",
        "base_dir = '/tmp/cats_and_dogs_filtered'\n",
        "train_dir = os.path.join(base_dir, 'train')\n",
        "validation_dir = os.path.join(base_dir, 'validation')\n",
        "\n",
        "# Directory with our training cat pictures\n",
        "train_cats_dir = os.path.join(train_dir, 'cats')\n",
        "\n",
        "# Directory with our training dog pictures\n",
        "train_dogs_dir = os.path.join(train_dir, 'dogs')\n",
        "\n",
        "# Directory with our validation cat pictures\n",
        "validation_cats_dir = os.path.join(validation_dir, 'cats')\n",
        "\n",
        "# Directory with our validation dog pictures\n",
        "validation_dogs_dir = os.path.join(validation_dir, 'dogs')\n",
        "\n",
        "train_cat_fnames = os.listdir(train_cats_dir)\n",
        "train_dog_fnames = os.listdir(train_dogs_dir)\n",
        "\n",
        "# Add our data-augmentation parameters to ImageDataGenerator\n",
        "train_datagen = ImageDataGenerator(\n",
        "    rescale=1./255,\n",
        "    rotation_range=40,\n",
        "    width_shift_range=0.2,\n",
        "    height_shift_range=0.2,\n",
        "    shear_range=0.2,\n",
        "    zoom_range=0.2,\n",
        "    horizontal_flip=True)\n",
        "\n",
        "# Note that the validation data should not be augmented!\n",
        "test_datagen = ImageDataGenerator(rescale=1./255)\n",
        "\n",
        "train_generator = train_datagen.flow_from_directory(\n",
        "        train_dir, # This is the source directory for training images\n",
        "        target_size=(150, 150),  # All images will be resized to 150x150\n",
        "        batch_size=20,\n",
        "        # Since we use binary_crossentropy loss, we need binary labels\n",
        "        class_mode='binary')\n",
        "\n",
        "# Flow validation images in batches of 20 using test_datagen generator\n",
        "validation_generator = test_datagen.flow_from_directory(\n",
        "        validation_dir,\n",
        "        target_size=(150, 150),\n",
        "        batch_size=20,\n",
        "        class_mode='binary')"
      ],
      "execution_count": 14,
      "outputs": [
        {
          "output_type": "stream",
          "text": [
            "Found 2000 images belonging to 2 classes.\n",
            "Found 1000 images belonging to 2 classes.\n"
          ],
          "name": "stdout"
        }
      ]
    },
    {
      "metadata": {
        "id": "N1Y2teq8UKvu",
        "colab_type": "code",
        "colab": {
          "base_uri": "https://localhost:8080/",
          "height": 190
        },
        "outputId": "504a7c7e-6a11-4474-ff6e-8e8452dfa414"
      },
      "cell_type": "code",
      "source": [
        "history = model.fit_generator(\n",
        "      train_generator,\n",
        "      steps_per_epoch=100,\n",
        "      epochs=2,\n",
        "      validation_data=validation_generator,\n",
        "      validation_steps=50,\n",
        "      verbose=2)"
      ],
      "execution_count": 15,
      "outputs": [
        {
          "output_type": "stream",
          "text": [
            "WARNING:tensorflow:From /usr/local/lib/python3.6/dist-packages/tensorflow/python/ops/math_ops.py:3066: to_int32 (from tensorflow.python.ops.math_ops) is deprecated and will be removed in a future version.\n",
            "Instructions for updating:\n",
            "Use tf.cast instead.\n",
            "Epoch 1/2\n",
            "50/50 [==============================] - 55s 1s/step - loss: 0.3629 - acc: 0.9020\n",
            " - 222s - loss: 0.4856 - acc: 0.7565 - val_loss: 0.3629 - val_acc: 0.9020\n",
            "Epoch 2/2\n",
            "50/50 [==============================] - 55s 1s/step - loss: 0.2590 - acc: 0.9420\n",
            " - 217s - loss: 0.3494 - acc: 0.8480 - val_loss: 0.2590 - val_acc: 0.9420\n"
          ],
          "name": "stdout"
        }
      ]
    },
    {
      "metadata": {
        "id": "fqZm0kABenUl",
        "colab_type": "text"
      },
      "cell_type": "markdown",
      "source": [
        "#Further Improving Accuracy with Fine-Tunning"
      ]
    },
    {
      "metadata": {
        "id": "1P28W_TXUWsj",
        "colab_type": "code",
        "colab": {}
      },
      "cell_type": "code",
      "source": [
        "from tensorflow.keras.optimizers import SGD\n",
        "\n",
        "unfreeze = False\n",
        "\n",
        "# Unfreeze all models after \"mixed6\"\n",
        "for layer in pre_trained_model.layers:\n",
        "  if unfreeze:\n",
        "    layer.trainable = True\n",
        "  if layer.name == 'mixed6':\n",
        "    unfreeze = True\n",
        "\n",
        "# As an optimizer, here we will use SGD \n",
        "# with a very low learning rate (0.00001)\n",
        "model.compile(loss='binary_crossentropy',\n",
        "              optimizer=SGD(\n",
        "                  lr=0.00001, \n",
        "                  momentum=0.9),\n",
        "              metrics=['acc'])"
      ],
      "execution_count": 0,
      "outputs": []
    },
    {
      "metadata": {
        "id": "IK1dj-qGe5ft",
        "colab_type": "code",
        "colab": {
          "base_uri": "https://localhost:8080/",
          "height": 1513
        },
        "outputId": "834a21bc-37c4-43b2-fd84-f3f7b59d9f80"
      },
      "cell_type": "code",
      "source": [
        "history = model.fit_generator(\n",
        "      train_generator,\n",
        "      steps_per_epoch=100,\n",
        "      epochs=50,\n",
        "      validation_data=validation_generator,\n",
        "      validation_steps=50,\n",
        "      verbose=2)"
      ],
      "execution_count": 0,
      "outputs": [
        {
          "output_type": "stream",
          "text": [
            "Epoch 1/50\n",
            "50/50 [==============================] - 56s 1s/step - loss: 0.2566 - acc: 0.9420\n",
            " - 240s - loss: 0.2919 - acc: 0.8735 - val_loss: 0.2566 - val_acc: 0.9420\n",
            "Epoch 2/50\n",
            "50/50 [==============================] - 55s 1s/step - loss: 0.2615 - acc: 0.9410\n",
            " - 237s - loss: 0.2929 - acc: 0.8665 - val_loss: 0.2615 - val_acc: 0.9410\n",
            "Epoch 3/50\n",
            "50/50 [==============================] - 55s 1s/step - loss: 0.2620 - acc: 0.9420\n",
            " - 238s - loss: 0.2842 - acc: 0.8785 - val_loss: 0.2620 - val_acc: 0.9420\n",
            "Epoch 4/50\n",
            "50/50 [==============================] - 55s 1s/step - loss: 0.2589 - acc: 0.9430\n",
            " - 237s - loss: 0.2962 - acc: 0.8615 - val_loss: 0.2589 - val_acc: 0.9430\n",
            "Epoch 5/50\n",
            "50/50 [==============================] - 54s 1s/step - loss: 0.2593 - acc: 0.9420\n",
            " - 236s - loss: 0.2988 - acc: 0.8675 - val_loss: 0.2593 - val_acc: 0.9420\n",
            "Epoch 6/50\n",
            "50/50 [==============================] - 55s 1s/step - loss: 0.2582 - acc: 0.9440\n",
            " - 238s - loss: 0.2842 - acc: 0.8785 - val_loss: 0.2582 - val_acc: 0.9440\n",
            "Epoch 7/50\n",
            "50/50 [==============================] - 55s 1s/step - loss: 0.2568 - acc: 0.9440\n",
            " - 237s - loss: 0.2732 - acc: 0.8855 - val_loss: 0.2568 - val_acc: 0.9440\n",
            "Epoch 8/50\n",
            "50/50 [==============================] - 54s 1s/step - loss: 0.2563 - acc: 0.9440\n",
            " - 236s - loss: 0.2813 - acc: 0.8740 - val_loss: 0.2563 - val_acc: 0.9440\n",
            "Epoch 9/50\n",
            "50/50 [==============================] - 55s 1s/step - loss: 0.2527 - acc: 0.9460\n",
            " - 237s - loss: 0.2881 - acc: 0.8780 - val_loss: 0.2527 - val_acc: 0.9460\n",
            "Epoch 10/50\n",
            "50/50 [==============================] - 55s 1s/step - loss: 0.2560 - acc: 0.9440\n",
            " - 236s - loss: 0.2973 - acc: 0.8730 - val_loss: 0.2560 - val_acc: 0.9440\n",
            "Epoch 11/50\n",
            "50/50 [==============================] - 54s 1s/step - loss: 0.2553 - acc: 0.9450\n",
            " - 237s - loss: 0.2805 - acc: 0.8730 - val_loss: 0.2553 - val_acc: 0.9450\n",
            "Epoch 12/50\n",
            "50/50 [==============================] - 54s 1s/step - loss: 0.2526 - acc: 0.9450\n",
            " - 236s - loss: 0.2942 - acc: 0.8805 - val_loss: 0.2526 - val_acc: 0.9450\n",
            "Epoch 13/50\n",
            "50/50 [==============================] - 55s 1s/step - loss: 0.2542 - acc: 0.9450\n",
            " - 237s - loss: 0.2598 - acc: 0.8890 - val_loss: 0.2542 - val_acc: 0.9450\n",
            "Epoch 14/50\n",
            "50/50 [==============================] - 55s 1s/step - loss: 0.2522 - acc: 0.9450\n",
            " - 236s - loss: 0.2938 - acc: 0.8685 - val_loss: 0.2522 - val_acc: 0.9450\n",
            "Epoch 15/50\n",
            "50/50 [==============================] - 54s 1s/step - loss: 0.2499 - acc: 0.9470\n",
            " - 238s - loss: 0.2870 - acc: 0.8595 - val_loss: 0.2499 - val_acc: 0.9470\n",
            "Epoch 16/50\n",
            "50/50 [==============================] - 55s 1s/step - loss: 0.2496 - acc: 0.9460\n",
            " - 238s - loss: 0.2712 - acc: 0.8790 - val_loss: 0.2496 - val_acc: 0.9460\n",
            "Epoch 17/50\n",
            "50/50 [==============================] - 56s 1s/step - loss: 0.2500 - acc: 0.9460\n",
            " - 236s - loss: 0.2756 - acc: 0.8885 - val_loss: 0.2500 - val_acc: 0.9460\n",
            "Epoch 18/50\n",
            "50/50 [==============================] - 54s 1s/step - loss: 0.2493 - acc: 0.9460\n",
            " - 236s - loss: 0.2763 - acc: 0.8760 - val_loss: 0.2493 - val_acc: 0.9460\n",
            "Epoch 19/50\n",
            "50/50 [==============================] - 54s 1s/step - loss: 0.2479 - acc: 0.9470\n",
            " - 237s - loss: 0.2780 - acc: 0.8735 - val_loss: 0.2479 - val_acc: 0.9470\n",
            "Epoch 20/50\n",
            "50/50 [==============================] - 53s 1s/step - loss: 0.2477 - acc: 0.9460\n",
            " - 236s - loss: 0.2672 - acc: 0.8900 - val_loss: 0.2477 - val_acc: 0.9460\n",
            "Epoch 21/50\n",
            "50/50 [==============================] - 55s 1s/step - loss: 0.2479 - acc: 0.9460\n",
            " - 236s - loss: 0.2537 - acc: 0.8920 - val_loss: 0.2479 - val_acc: 0.9460\n",
            "Epoch 22/50\n",
            "50/50 [==============================] - 55s 1s/step - loss: 0.2457 - acc: 0.9470\n",
            " - 236s - loss: 0.2826 - acc: 0.8675 - val_loss: 0.2457 - val_acc: 0.9470\n",
            "Epoch 23/50\n",
            "50/50 [==============================] - 55s 1s/step - loss: 0.2477 - acc: 0.9460\n",
            " - 237s - loss: 0.2774 - acc: 0.8850 - val_loss: 0.2477 - val_acc: 0.9460\n",
            "Epoch 24/50\n",
            "50/50 [==============================] - 54s 1s/step - loss: 0.2466 - acc: 0.9460\n",
            " - 237s - loss: 0.2802 - acc: 0.8775 - val_loss: 0.2466 - val_acc: 0.9460\n",
            "Epoch 25/50\n",
            "50/50 [==============================] - 55s 1s/step - loss: 0.2464 - acc: 0.9460\n",
            " - 238s - loss: 0.2813 - acc: 0.8730 - val_loss: 0.2464 - val_acc: 0.9460\n",
            "Epoch 26/50\n",
            "50/50 [==============================] - 55s 1s/step - loss: 0.2475 - acc: 0.9460\n",
            " - 236s - loss: 0.2777 - acc: 0.8800 - val_loss: 0.2475 - val_acc: 0.9460\n",
            "Epoch 27/50\n",
            "50/50 [==============================] - 54s 1s/step - loss: 0.2478 - acc: 0.9450\n",
            " - 235s - loss: 0.2901 - acc: 0.8745 - val_loss: 0.2478 - val_acc: 0.9450\n",
            "Epoch 28/50\n",
            "50/50 [==============================] - 54s 1s/step - loss: 0.2475 - acc: 0.9450\n",
            " - 235s - loss: 0.2724 - acc: 0.8860 - val_loss: 0.2475 - val_acc: 0.9450\n",
            "Epoch 29/50\n",
            "50/50 [==============================] - 54s 1s/step - loss: 0.2475 - acc: 0.9460\n",
            " - 236s - loss: 0.2868 - acc: 0.8760 - val_loss: 0.2475 - val_acc: 0.9460\n",
            "Epoch 30/50\n"
          ],
          "name": "stdout"
        }
      ]
    },
    {
      "metadata": {
        "id": "CoHohormfBG0",
        "colab_type": "code",
        "colab": {}
      },
      "cell_type": "code",
      "source": [
        ""
      ],
      "execution_count": 0,
      "outputs": []
    }
  ]
}